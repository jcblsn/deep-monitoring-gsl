{
 "cells": [
  {
   "attachments": {},
   "cell_type": "markdown",
   "metadata": {},
   "source": [
    "# Exploring candidates to use as ground truth for training the model\n",
    "\n",
    "2023-06-02"
   ]
  },
  {
   "cell_type": "code",
   "execution_count": 177,
   "metadata": {},
   "outputs": [],
   "source": [
    "\n",
    "import geopandas as gpd\n",
    "import pandas as pd\n",
    "import ee\n",
    "import folium\n",
    "import shapely.geometry\n",
    "from shapely.geometry import shape\n",
    "from matplotlib import pyplot as plt\n",
    "\n",
    "# ee.Authenticate()\n",
    "ee.Initialize(project='gsl-monitoring')"
   ]
  },
  {
   "attachments": {},
   "cell_type": "markdown",
   "metadata": {},
   "source": [
    "## Read\n",
    "\n",
    "The `image_ids` were identified as the images with coverage over the target area during the target time period using the metadata saved in `scripts/save-historical-image-metadata.py`."
   ]
  },
  {
   "cell_type": "code",
   "execution_count": 178,
   "metadata": {},
   "outputs": [],
   "source": [
    "gdf = gpd.read_file('../../data/definitions/preliminary-roi.geojson')\n",
    "polygon_geojson = shapely.geometry.mapping(gdf.loc[0, 'geometry'])\n",
    "roi = ee.Geometry.Polygon(polygon_geojson['coordinates'])\n",
    "\n",
    "# create image collection\n",
    "collection = ee.ImageCollection('COPERNICUS/S1_GRD') \\\n",
    "    .filterBounds(roi) \\\n",
    "    .filterDate('2014-01-01', '2023-05-30') \\\n",
    "    .select('VV')\n",
    "\n",
    "image_ids = [\n",
    "    'COPERNICUS/S1_GRD/S1A_IW_GRDH_1SSV_20161118T133343_20161118T133408_013997_0168E2_0E34',\n",
    "    'COPERNICUS/S1_GRD/S1A_IW_GRDH_1SSV_20161025T133344_20161025T133409_013647_015DFD_D6D4',\n",
    "    'COPERNICUS/S1_GRD/S1A_IW_GRDH_1SSV_20161001T133344_20161001T133409_013297_015303_46D8',\n",
    "    'COPERNICUS/S1_GRD/S1A_IW_GRDH_1SSV_20160914T012714_20160914T012739_013042_014AAB_8E21',\n",
    "    'COPERNICUS/S1_GRD/S1A_IW_GRDH_1SSV_20160907T133338_20160907T133403_012947_0147A1_6662',\n",
    "    'COPERNICUS/S1_GRD/S1A_IW_GRDH_1SSV_20160814T133337_20160814T133402_012597_013BFD_B0DF',\n",
    "    ]"
   ]
  },
  {
   "attachments": {},
   "cell_type": "markdown",
   "metadata": {},
   "source": [
    "## Function definitions"
   ]
  },
  {
   "cell_type": "code",
   "execution_count": 179,
   "metadata": {},
   "outputs": [],
   "source": [
    "def get_image_collection(image_ids):\n",
    "    def get_images(image_id):\n",
    "        return ee.Image(image_id)\n",
    "\n",
    "    images = ee.ImageCollection.fromImages(list(map(get_images, image_ids)))\\\n",
    "                                .filter(ee.Filter.listContains('transmitterReceiverPolarisation', 'VV'))\\\n",
    "                                .filter(ee.Filter.eq('instrumentMode', 'IW'))\n",
    "    return images\n",
    "\n",
    "def print_image_properties(images):\n",
    "    first_image = ee.Image(images.first())\n",
    "    properties = first_image.getInfo()['properties']\n",
    "    print(f\"Image pass direction: {properties['orbitProperties_pass']}\")\n",
    "    print(f\"Image polarization: {properties['transmitterReceiverPolarisation']}\")\n",
    "\n",
    "def lee_filter(image, size):\n",
    "    mean_square = image.reduceNeighborhood(\n",
    "        reducer=ee.Reducer.mean().unweighted(),\n",
    "        kernel=ee.Kernel.square(size),\n",
    "    )\n",
    "    sigma = image.reduceNeighborhood(\n",
    "        reducer=ee.Reducer.stdDev().unweighted(),\n",
    "        kernel=ee.Kernel.square(size),\n",
    "    )\n",
    "    return image.where(sigma.gt(0.0), mean_square)\n",
    "\n",
    "def lee_sigma(image, look_window, sigma_v):\n",
    "    \"\"\"Applies a Lee Sigma filter to an image.\"\"\"\n",
    "    mean = image.reduceNeighborhood(\n",
    "        ee.Reducer.mean(), ee.Kernel.square(look_window))\n",
    "\n",
    "    variance = image.reduceNeighborhood(\n",
    "        ee.Reducer.variance(), ee.Kernel.square(look_window))\n",
    "\n",
    "    sigma_v = variance.sqrt().divide(mean)\n",
    "\n",
    "    return image.where(sigma_v.gt(sigma_v), mean)\n",
    "\n",
    "def apply_speckle_filter(images, size=3):\n",
    "    return images.map(lambda img: lee_sigma(img, 7, 0.25))\n",
    "\n",
    "def to_linear(img):\n",
    "    # from db to linear\n",
    "    linear_vv = ee.Image(10.0).pow(img.select(['VV']).divide(10.0))\n",
    "    img = img.addBands(linear_vv, overwrite=True).select(['VV','angle'])\n",
    "    return img\n",
    "\n",
    "def convert_to_linear_units(images):\n",
    "    return images.map(to_linear)\n",
    "\n",
    "def min_max_normalize(img, roi):\n",
    "    stats = img.reduceRegion(reducer=ee.Reducer.minMax(), geometry=roi, maxPixels=1e12)\n",
    "    min_value = ee.Number(stats.get('VV_min'))\n",
    "    max_value = ee.Number(stats.get('VV_max'))\n",
    "    return img.subtract(min_value).divide(max_value.subtract(min_value))\n",
    "\n",
    "def normalize_collection(images, roi):\n",
    "    return images.map(lambda img: min_max_normalize(img, roi))\n",
    "\n",
    "def add_ee_layer(self, ee_image_object, vis_params, name):\n",
    "    map_id_dict = ee.Image(ee_image_object).getMapId(vis_params)\n",
    "    folium.raster_layers.TileLayer(\n",
    "        tiles = map_id_dict['tile_fetcher'].url_format,\n",
    "        attr = \"Map Data © Google Earth Engine\",\n",
    "        name = name,\n",
    "        overlay = True,\n",
    "        control = True\n",
    "    ).add_to(self)\n",
    "\n",
    "def create_binary_mask(image, threshold):\n",
    "    return image.lt(threshold).rename('binary_mask')\n",
    "\n",
    "def show_binary_mask(image, roi, vis_params, threshold=-25):\n",
    "    folium.Map.add_ee_layer = add_ee_layer\n",
    "    my_map = folium.Map(location=[roi.centroid().coordinates().get(1).getInfo(), \n",
    "                                  roi.centroid().coordinates().get(0).getInfo()], zoom_start=8)\n",
    "    mask = create_binary_mask(image, threshold)\n",
    "    my_map.add_ee_layer(mask, vis_params, 'Binary Mask')\n",
    "    my_map.add_child(folium.LayerControl())\n",
    "    return my_map\n",
    "\n",
    "def show_map(image, roi, vis_params):\n",
    "    folium.Map.add_ee_layer = add_ee_layer\n",
    "    my_map = folium.Map(location=[roi.centroid().coordinates().get(1).getInfo(), \n",
    "                                  roi.centroid().coordinates().get(0).getInfo()], zoom_start=8)\n",
    "    my_map.add_ee_layer(image, vis_params, 'Normalized SAR Image')\n",
    "    my_map.add_child(folium.LayerControl())\n",
    "    return my_map"
   ]
  },
  {
   "attachments": {},
   "cell_type": "markdown",
   "metadata": {},
   "source": [
    "## Process"
   ]
  },
  {
   "cell_type": "code",
   "execution_count": 180,
   "metadata": {},
   "outputs": [
    {
     "name": "stdout",
     "output_type": "stream",
     "text": [
      "Image pass direction: DESCENDING\n",
      "Image polarization: ['VV']\n"
     ]
    }
   ],
   "source": [
    "images = get_image_collection(image_ids)\n",
    "print_image_properties(images)\n",
    "\n",
    "filtered_collection = apply_speckle_filter(images)\n",
    "linear_collection = convert_to_linear_units(filtered_collection)\n",
    "normalized_collection = normalize_collection(linear_collection, roi)"
   ]
  },
  {
   "attachments": {},
   "cell_type": "markdown",
   "metadata": {},
   "source": [
    "## Visualize image"
   ]
  },
  {
   "attachments": {},
   "cell_type": "markdown",
   "metadata": {},
   "source": [
    "### Linear"
   ]
  },
  {
   "cell_type": "code",
   "execution_count": 181,
   "metadata": {},
   "outputs": [
    {
     "data": {
      "text/html": [
       "<div style=\"width:100%;\"><div style=\"position:relative;width:100%;height:0;padding-bottom:60%;\"><span style=\"color:#565656\">Make this Notebook Trusted to load map: File -> Trust Notebook</span><iframe srcdoc=\"&lt;!DOCTYPE html&gt;\n",
       "&lt;html&gt;\n",
       "&lt;head&gt;\n",
       "    \n",
       "    &lt;meta http-equiv=&quot;content-type&quot; content=&quot;text/html; charset=UTF-8&quot; /&gt;\n",
       "    \n",
       "        &lt;script&gt;\n",
       "            L_NO_TOUCH = false;\n",
       "            L_DISABLE_3D = false;\n",
       "        &lt;/script&gt;\n",
       "    \n",
       "    &lt;style&gt;html, body {width: 100%;height: 100%;margin: 0;padding: 0;}&lt;/style&gt;\n",
       "    &lt;style&gt;#map {position:absolute;top:0;bottom:0;right:0;left:0;}&lt;/style&gt;\n",
       "    &lt;script src=&quot;https://cdn.jsdelivr.net/npm/leaflet@1.9.3/dist/leaflet.js&quot;&gt;&lt;/script&gt;\n",
       "    &lt;script src=&quot;https://code.jquery.com/jquery-1.12.4.min.js&quot;&gt;&lt;/script&gt;\n",
       "    &lt;script src=&quot;https://cdn.jsdelivr.net/npm/bootstrap@5.2.2/dist/js/bootstrap.bundle.min.js&quot;&gt;&lt;/script&gt;\n",
       "    &lt;script src=&quot;https://cdnjs.cloudflare.com/ajax/libs/Leaflet.awesome-markers/2.0.2/leaflet.awesome-markers.js&quot;&gt;&lt;/script&gt;\n",
       "    &lt;link rel=&quot;stylesheet&quot; href=&quot;https://cdn.jsdelivr.net/npm/leaflet@1.9.3/dist/leaflet.css&quot;/&gt;\n",
       "    &lt;link rel=&quot;stylesheet&quot; href=&quot;https://cdn.jsdelivr.net/npm/bootstrap@5.2.2/dist/css/bootstrap.min.css&quot;/&gt;\n",
       "    &lt;link rel=&quot;stylesheet&quot; href=&quot;https://netdna.bootstrapcdn.com/bootstrap/3.0.0/css/bootstrap.min.css&quot;/&gt;\n",
       "    &lt;link rel=&quot;stylesheet&quot; href=&quot;https://cdn.jsdelivr.net/npm/@fortawesome/fontawesome-free@6.2.0/css/all.min.css&quot;/&gt;\n",
       "    &lt;link rel=&quot;stylesheet&quot; href=&quot;https://cdnjs.cloudflare.com/ajax/libs/Leaflet.awesome-markers/2.0.2/leaflet.awesome-markers.css&quot;/&gt;\n",
       "    &lt;link rel=&quot;stylesheet&quot; href=&quot;https://cdn.jsdelivr.net/gh/python-visualization/folium/folium/templates/leaflet.awesome.rotate.min.css&quot;/&gt;\n",
       "    \n",
       "            &lt;meta name=&quot;viewport&quot; content=&quot;width=device-width,\n",
       "                initial-scale=1.0, maximum-scale=1.0, user-scalable=no&quot; /&gt;\n",
       "            &lt;style&gt;\n",
       "                #map_fe368887ef766eefce6a6f2fa3512302 {\n",
       "                    position: relative;\n",
       "                    width: 100.0%;\n",
       "                    height: 100.0%;\n",
       "                    left: 0.0%;\n",
       "                    top: 0.0%;\n",
       "                }\n",
       "                .leaflet-container { font-size: 1rem; }\n",
       "            &lt;/style&gt;\n",
       "        \n",
       "&lt;/head&gt;\n",
       "&lt;body&gt;\n",
       "    \n",
       "    \n",
       "            &lt;div class=&quot;folium-map&quot; id=&quot;map_fe368887ef766eefce6a6f2fa3512302&quot; &gt;&lt;/div&gt;\n",
       "        \n",
       "&lt;/body&gt;\n",
       "&lt;script&gt;\n",
       "    \n",
       "    \n",
       "            var map_fe368887ef766eefce6a6f2fa3512302 = L.map(\n",
       "                &quot;map_fe368887ef766eefce6a6f2fa3512302&quot;,\n",
       "                {\n",
       "                    center: [41.19911137151146, -112.55089611487612],\n",
       "                    crs: L.CRS.EPSG3857,\n",
       "                    zoom: 8,\n",
       "                    zoomControl: true,\n",
       "                    preferCanvas: false,\n",
       "                }\n",
       "            );\n",
       "\n",
       "            \n",
       "\n",
       "        \n",
       "    \n",
       "            var tile_layer_a9d914b421147a0c6fd32138d1f9395d = L.tileLayer(\n",
       "                &quot;https://{s}.tile.openstreetmap.org/{z}/{x}/{y}.png&quot;,\n",
       "                {&quot;attribution&quot;: &quot;Data by \\u0026copy; \\u003ca target=\\&quot;_blank\\&quot; href=\\&quot;http://openstreetmap.org\\&quot;\\u003eOpenStreetMap\\u003c/a\\u003e, under \\u003ca target=\\&quot;_blank\\&quot; href=\\&quot;http://www.openstreetmap.org/copyright\\&quot;\\u003eODbL\\u003c/a\\u003e.&quot;, &quot;detectRetina&quot;: false, &quot;maxNativeZoom&quot;: 18, &quot;maxZoom&quot;: 18, &quot;minZoom&quot;: 0, &quot;noWrap&quot;: false, &quot;opacity&quot;: 1, &quot;subdomains&quot;: &quot;abc&quot;, &quot;tms&quot;: false}\n",
       "            ).addTo(map_fe368887ef766eefce6a6f2fa3512302);\n",
       "        \n",
       "    \n",
       "            var tile_layer_4ea79c1bb1e5daa373ea4f39457b8b50 = L.tileLayer(\n",
       "                &quot;https://earthengine.googleapis.com/v1alpha/projects/gsl-monitoring/maps/0ffa8aacac6a1d2da208bdb6acb7d383-663181d8802296b54f4495e5ad97144f/tiles/{z}/{x}/{y}&quot;,\n",
       "                {&quot;attribution&quot;: &quot;Map Data \\u00a9 Google Earth Engine&quot;, &quot;detectRetina&quot;: false, &quot;maxNativeZoom&quot;: 18, &quot;maxZoom&quot;: 18, &quot;minZoom&quot;: 0, &quot;noWrap&quot;: false, &quot;opacity&quot;: 1, &quot;subdomains&quot;: &quot;abc&quot;, &quot;tms&quot;: false}\n",
       "            ).addTo(map_fe368887ef766eefce6a6f2fa3512302);\n",
       "        \n",
       "    \n",
       "            var layer_control_4259f94500c7abe4c6f0cdfa2f0cd642 = {\n",
       "                base_layers : {\n",
       "                    &quot;openstreetmap&quot; : tile_layer_a9d914b421147a0c6fd32138d1f9395d,\n",
       "                },\n",
       "                overlays :  {\n",
       "                    &quot;Normalized SAR Image&quot; : tile_layer_4ea79c1bb1e5daa373ea4f39457b8b50,\n",
       "                },\n",
       "            };\n",
       "            L.control.layers(\n",
       "                layer_control_4259f94500c7abe4c6f0cdfa2f0cd642.base_layers,\n",
       "                layer_control_4259f94500c7abe4c6f0cdfa2f0cd642.overlays,\n",
       "                {&quot;autoZIndex&quot;: true, &quot;collapsed&quot;: true, &quot;position&quot;: &quot;topright&quot;}\n",
       "            ).addTo(map_fe368887ef766eefce6a6f2fa3512302);\n",
       "        \n",
       "&lt;/script&gt;\n",
       "&lt;/html&gt;\" style=\"position:absolute;width:100%;height:100%;left:0;top:0;border:none !important;\" allowfullscreen webkitallowfullscreen mozallowfullscreen></iframe></div></div>"
      ],
      "text/plain": [
       "<folium.folium.Map at 0x1608ce890>"
      ]
     },
     "metadata": {},
     "output_type": "display_data"
    }
   ],
   "source": [
    "vis_params = {\n",
    "    'min': -25,\n",
    "    'max': -5,\n",
    "    'palette': ['#1b63e0', 'white', '#e0981b']\n",
    "}\n",
    "\n",
    "image = ee.Image(linear_collection.toList(images.size()).get(1)).select('VV')\n",
    "my_map = show_map(image, roi, vis_params)\n",
    "display(my_map)"
   ]
  },
  {
   "cell_type": "code",
   "execution_count": null,
   "metadata": {},
   "outputs": [
    {
     "data": {
      "text/html": [
       "<div style=\"width:100%;\"><div style=\"position:relative;width:100%;height:0;padding-bottom:60%;\"><span style=\"color:#565656\">Make this Notebook Trusted to load map: File -> Trust Notebook</span><iframe srcdoc=\"&lt;!DOCTYPE html&gt;\n",
       "&lt;html&gt;\n",
       "&lt;head&gt;\n",
       "    \n",
       "    &lt;meta http-equiv=&quot;content-type&quot; content=&quot;text/html; charset=UTF-8&quot; /&gt;\n",
       "    \n",
       "        &lt;script&gt;\n",
       "            L_NO_TOUCH = false;\n",
       "            L_DISABLE_3D = false;\n",
       "        &lt;/script&gt;\n",
       "    \n",
       "    &lt;style&gt;html, body {width: 100%;height: 100%;margin: 0;padding: 0;}&lt;/style&gt;\n",
       "    &lt;style&gt;#map {position:absolute;top:0;bottom:0;right:0;left:0;}&lt;/style&gt;\n",
       "    &lt;script src=&quot;https://cdn.jsdelivr.net/npm/leaflet@1.9.3/dist/leaflet.js&quot;&gt;&lt;/script&gt;\n",
       "    &lt;script src=&quot;https://code.jquery.com/jquery-1.12.4.min.js&quot;&gt;&lt;/script&gt;\n",
       "    &lt;script src=&quot;https://cdn.jsdelivr.net/npm/bootstrap@5.2.2/dist/js/bootstrap.bundle.min.js&quot;&gt;&lt;/script&gt;\n",
       "    &lt;script src=&quot;https://cdnjs.cloudflare.com/ajax/libs/Leaflet.awesome-markers/2.0.2/leaflet.awesome-markers.js&quot;&gt;&lt;/script&gt;\n",
       "    &lt;link rel=&quot;stylesheet&quot; href=&quot;https://cdn.jsdelivr.net/npm/leaflet@1.9.3/dist/leaflet.css&quot;/&gt;\n",
       "    &lt;link rel=&quot;stylesheet&quot; href=&quot;https://cdn.jsdelivr.net/npm/bootstrap@5.2.2/dist/css/bootstrap.min.css&quot;/&gt;\n",
       "    &lt;link rel=&quot;stylesheet&quot; href=&quot;https://netdna.bootstrapcdn.com/bootstrap/3.0.0/css/bootstrap.min.css&quot;/&gt;\n",
       "    &lt;link rel=&quot;stylesheet&quot; href=&quot;https://cdn.jsdelivr.net/npm/@fortawesome/fontawesome-free@6.2.0/css/all.min.css&quot;/&gt;\n",
       "    &lt;link rel=&quot;stylesheet&quot; href=&quot;https://cdnjs.cloudflare.com/ajax/libs/Leaflet.awesome-markers/2.0.2/leaflet.awesome-markers.css&quot;/&gt;\n",
       "    &lt;link rel=&quot;stylesheet&quot; href=&quot;https://cdn.jsdelivr.net/gh/python-visualization/folium/folium/templates/leaflet.awesome.rotate.min.css&quot;/&gt;\n",
       "    \n",
       "            &lt;meta name=&quot;viewport&quot; content=&quot;width=device-width,\n",
       "                initial-scale=1.0, maximum-scale=1.0, user-scalable=no&quot; /&gt;\n",
       "            &lt;style&gt;\n",
       "                #map_6b79bb69785177618861d08cc3ccfc1c {\n",
       "                    position: relative;\n",
       "                    width: 100.0%;\n",
       "                    height: 100.0%;\n",
       "                    left: 0.0%;\n",
       "                    top: 0.0%;\n",
       "                }\n",
       "                .leaflet-container { font-size: 1rem; }\n",
       "            &lt;/style&gt;\n",
       "        \n",
       "&lt;/head&gt;\n",
       "&lt;body&gt;\n",
       "    \n",
       "    \n",
       "            &lt;div class=&quot;folium-map&quot; id=&quot;map_6b79bb69785177618861d08cc3ccfc1c&quot; &gt;&lt;/div&gt;\n",
       "        \n",
       "&lt;/body&gt;\n",
       "&lt;script&gt;\n",
       "    \n",
       "    \n",
       "            var map_6b79bb69785177618861d08cc3ccfc1c = L.map(\n",
       "                &quot;map_6b79bb69785177618861d08cc3ccfc1c&quot;,\n",
       "                {\n",
       "                    center: [41.19911137151146, -112.55089611487612],\n",
       "                    crs: L.CRS.EPSG3857,\n",
       "                    zoom: 8,\n",
       "                    zoomControl: true,\n",
       "                    preferCanvas: false,\n",
       "                }\n",
       "            );\n",
       "\n",
       "            \n",
       "\n",
       "        \n",
       "    \n",
       "            var tile_layer_e3f27ef01b55f864850ad16107ce4cff = L.tileLayer(\n",
       "                &quot;https://{s}.tile.openstreetmap.org/{z}/{x}/{y}.png&quot;,\n",
       "                {&quot;attribution&quot;: &quot;Data by \\u0026copy; \\u003ca target=\\&quot;_blank\\&quot; href=\\&quot;http://openstreetmap.org\\&quot;\\u003eOpenStreetMap\\u003c/a\\u003e, under \\u003ca target=\\&quot;_blank\\&quot; href=\\&quot;http://www.openstreetmap.org/copyright\\&quot;\\u003eODbL\\u003c/a\\u003e.&quot;, &quot;detectRetina&quot;: false, &quot;maxNativeZoom&quot;: 18, &quot;maxZoom&quot;: 18, &quot;minZoom&quot;: 0, &quot;noWrap&quot;: false, &quot;opacity&quot;: 1, &quot;subdomains&quot;: &quot;abc&quot;, &quot;tms&quot;: false}\n",
       "            ).addTo(map_6b79bb69785177618861d08cc3ccfc1c);\n",
       "        \n",
       "    \n",
       "            var tile_layer_d4ed4e15c02ebc44769d555eac8c96e5 = L.tileLayer(\n",
       "                &quot;https://earthengine.googleapis.com/v1alpha/projects/gsl-monitoring/maps/10aeb39236383129d20dcd866511783e-bb1568d3b19f6808306c3789b34a326b/tiles/{z}/{x}/{y}&quot;,\n",
       "                {&quot;attribution&quot;: &quot;Map Data \\u00a9 Google Earth Engine&quot;, &quot;detectRetina&quot;: false, &quot;maxNativeZoom&quot;: 18, &quot;maxZoom&quot;: 18, &quot;minZoom&quot;: 0, &quot;noWrap&quot;: false, &quot;opacity&quot;: 1, &quot;subdomains&quot;: &quot;abc&quot;, &quot;tms&quot;: false}\n",
       "            ).addTo(map_6b79bb69785177618861d08cc3ccfc1c);\n",
       "        \n",
       "    \n",
       "            var layer_control_2fa7d9f5b4210871f45ab5e58a5bdc11 = {\n",
       "                base_layers : {\n",
       "                    &quot;openstreetmap&quot; : tile_layer_e3f27ef01b55f864850ad16107ce4cff,\n",
       "                },\n",
       "                overlays :  {\n",
       "                    &quot;Normalized SAR Image&quot; : tile_layer_d4ed4e15c02ebc44769d555eac8c96e5,\n",
       "                },\n",
       "            };\n",
       "            L.control.layers(\n",
       "                layer_control_2fa7d9f5b4210871f45ab5e58a5bdc11.base_layers,\n",
       "                layer_control_2fa7d9f5b4210871f45ab5e58a5bdc11.overlays,\n",
       "                {&quot;autoZIndex&quot;: true, &quot;collapsed&quot;: true, &quot;position&quot;: &quot;topright&quot;}\n",
       "            ).addTo(map_6b79bb69785177618861d08cc3ccfc1c);\n",
       "        \n",
       "&lt;/script&gt;\n",
       "&lt;/html&gt;\" style=\"position:absolute;width:100%;height:100%;left:0;top:0;border:none !important;\" allowfullscreen webkitallowfullscreen mozallowfullscreen></iframe></div></div>"
      ],
      "text/plain": [
       "<folium.folium.Map at 0x15a003c40>"
      ]
     },
     "metadata": {},
     "output_type": "display_data"
    }
   ],
   "source": [
    "vis_params = {\n",
    "    'min': 0,\n",
    "    'max': 1,\n",
    "    'palette': ['#1b63e0', 'white', '#e0981b']\n",
    "}\n",
    "\n",
    "image = ee.Image(normalized_collection.toList(images.size()).get(1)).select('VV')\n",
    "my_map = show_map(image, roi, vis_params)\n",
    "display(my_map)"
   ]
  },
  {
   "attachments": {},
   "cell_type": "markdown",
   "metadata": {},
   "source": [
    "## Evaluate threshold candidates"
   ]
  },
  {
   "cell_type": "code",
   "execution_count": null,
   "metadata": {},
   "outputs": [
    {
     "data": {
      "image/png": "[encoded data removed]",
      "text/plain": [
       "<Figure size 1000x600 with 1 Axes>"
      ]
     },
     "metadata": {},
     "output_type": "display_data"
    }
   ],
   "source": [
    "image = ee.Image(filtered_collection.toList(images.size()).get(1)).select('VV')\n",
    "geometry = image.geometry()\n",
    "\n",
    "histogram = image.reduceRegion(\n",
    "    reducer=ee.Reducer.histogram(maxBuckets=100), \n",
    "    geometry=geometry, \n",
    "    scale=10, \n",
    "    maxPixels=1e9\n",
    ")\n",
    "hist_info = histogram.getInfo()\n",
    "vv_data = hist_info['VV']\n",
    "\n",
    "plt.figure(figsize=(10,6))\n",
    "plt.bar(vv_data['bucketMeans'], vv_data['histogram'], width=vv_data['bucketWidth'], align='edge')\n",
    "plt.title(\"Backscattering Coefficient (sigma0) Histogram - VV polarization\")\n",
    "plt.xlabel(\"Backscattering Coefficient (sigma0)\")\n",
    "plt.ylabel(\"Frequency\")\n",
    "plt.show()"
   ]
  },
  {
   "attachments": {},
   "cell_type": "markdown",
   "metadata": {},
   "source": [
    "## Visualize threshold mask"
   ]
  },
  {
   "cell_type": "code",
   "execution_count": null,
   "metadata": {},
   "outputs": [
    {
     "data": {
      "text/html": [
       "<div style=\"width:100%;\"><div style=\"position:relative;width:100%;height:0;padding-bottom:60%;\"><span style=\"color:#565656\">Make this Notebook Trusted to load map: File -> Trust Notebook</span><iframe srcdoc=\"&lt;!DOCTYPE html&gt;\n",
       "&lt;html&gt;\n",
       "&lt;head&gt;\n",
       "    \n",
       "    &lt;meta http-equiv=&quot;content-type&quot; content=&quot;text/html; charset=UTF-8&quot; /&gt;\n",
       "    \n",
       "        &lt;script&gt;\n",
       "            L_NO_TOUCH = false;\n",
       "            L_DISABLE_3D = false;\n",
       "        &lt;/script&gt;\n",
       "    \n",
       "    &lt;style&gt;html, body {width: 100%;height: 100%;margin: 0;padding: 0;}&lt;/style&gt;\n",
       "    &lt;style&gt;#map {position:absolute;top:0;bottom:0;right:0;left:0;}&lt;/style&gt;\n",
       "    &lt;script src=&quot;https://cdn.jsdelivr.net/npm/leaflet@1.9.3/dist/leaflet.js&quot;&gt;&lt;/script&gt;\n",
       "    &lt;script src=&quot;https://code.jquery.com/jquery-1.12.4.min.js&quot;&gt;&lt;/script&gt;\n",
       "    &lt;script src=&quot;https://cdn.jsdelivr.net/npm/bootstrap@5.2.2/dist/js/bootstrap.bundle.min.js&quot;&gt;&lt;/script&gt;\n",
       "    &lt;script src=&quot;https://cdnjs.cloudflare.com/ajax/libs/Leaflet.awesome-markers/2.0.2/leaflet.awesome-markers.js&quot;&gt;&lt;/script&gt;\n",
       "    &lt;link rel=&quot;stylesheet&quot; href=&quot;https://cdn.jsdelivr.net/npm/leaflet@1.9.3/dist/leaflet.css&quot;/&gt;\n",
       "    &lt;link rel=&quot;stylesheet&quot; href=&quot;https://cdn.jsdelivr.net/npm/bootstrap@5.2.2/dist/css/bootstrap.min.css&quot;/&gt;\n",
       "    &lt;link rel=&quot;stylesheet&quot; href=&quot;https://netdna.bootstrapcdn.com/bootstrap/3.0.0/css/bootstrap.min.css&quot;/&gt;\n",
       "    &lt;link rel=&quot;stylesheet&quot; href=&quot;https://cdn.jsdelivr.net/npm/@fortawesome/fontawesome-free@6.2.0/css/all.min.css&quot;/&gt;\n",
       "    &lt;link rel=&quot;stylesheet&quot; href=&quot;https://cdnjs.cloudflare.com/ajax/libs/Leaflet.awesome-markers/2.0.2/leaflet.awesome-markers.css&quot;/&gt;\n",
       "    &lt;link rel=&quot;stylesheet&quot; href=&quot;https://cdn.jsdelivr.net/gh/python-visualization/folium/folium/templates/leaflet.awesome.rotate.min.css&quot;/&gt;\n",
       "    \n",
       "            &lt;meta name=&quot;viewport&quot; content=&quot;width=device-width,\n",
       "                initial-scale=1.0, maximum-scale=1.0, user-scalable=no&quot; /&gt;\n",
       "            &lt;style&gt;\n",
       "                #map_a75c4ac7fe9736dc7f1ebbc506c46149 {\n",
       "                    position: relative;\n",
       "                    width: 100.0%;\n",
       "                    height: 100.0%;\n",
       "                    left: 0.0%;\n",
       "                    top: 0.0%;\n",
       "                }\n",
       "                .leaflet-container { font-size: 1rem; }\n",
       "            &lt;/style&gt;\n",
       "        \n",
       "&lt;/head&gt;\n",
       "&lt;body&gt;\n",
       "    \n",
       "    \n",
       "            &lt;div class=&quot;folium-map&quot; id=&quot;map_a75c4ac7fe9736dc7f1ebbc506c46149&quot; &gt;&lt;/div&gt;\n",
       "        \n",
       "&lt;/body&gt;\n",
       "&lt;script&gt;\n",
       "    \n",
       "    \n",
       "            var map_a75c4ac7fe9736dc7f1ebbc506c46149 = L.map(\n",
       "                &quot;map_a75c4ac7fe9736dc7f1ebbc506c46149&quot;,\n",
       "                {\n",
       "                    center: [41.19911137151146, -112.55089611487612],\n",
       "                    crs: L.CRS.EPSG3857,\n",
       "                    zoom: 8,\n",
       "                    zoomControl: true,\n",
       "                    preferCanvas: false,\n",
       "                }\n",
       "            );\n",
       "\n",
       "            \n",
       "\n",
       "        \n",
       "    \n",
       "            var tile_layer_263069ea04eec5c027ae79728c4aa431 = L.tileLayer(\n",
       "                &quot;https://{s}.tile.openstreetmap.org/{z}/{x}/{y}.png&quot;,\n",
       "                {&quot;attribution&quot;: &quot;Data by \\u0026copy; \\u003ca target=\\&quot;_blank\\&quot; href=\\&quot;http://openstreetmap.org\\&quot;\\u003eOpenStreetMap\\u003c/a\\u003e, under \\u003ca target=\\&quot;_blank\\&quot; href=\\&quot;http://www.openstreetmap.org/copyright\\&quot;\\u003eODbL\\u003c/a\\u003e.&quot;, &quot;detectRetina&quot;: false, &quot;maxNativeZoom&quot;: 18, &quot;maxZoom&quot;: 18, &quot;minZoom&quot;: 0, &quot;noWrap&quot;: false, &quot;opacity&quot;: 1, &quot;subdomains&quot;: &quot;abc&quot;, &quot;tms&quot;: false}\n",
       "            ).addTo(map_a75c4ac7fe9736dc7f1ebbc506c46149);\n",
       "        \n",
       "    \n",
       "            var tile_layer_e79b757e92df34ef251e64fcb3ae323b = L.tileLayer(\n",
       "                &quot;https://earthengine.googleapis.com/v1alpha/projects/gsl-monitoring/maps/a7ec9becdcb550738d9a80a1b2905cd4-9ea74faa8b1affe5dc40eba0fc578415/tiles/{z}/{x}/{y}&quot;,\n",
       "                {&quot;attribution&quot;: &quot;Map Data \\u00a9 Google Earth Engine&quot;, &quot;detectRetina&quot;: false, &quot;maxNativeZoom&quot;: 18, &quot;maxZoom&quot;: 18, &quot;minZoom&quot;: 0, &quot;noWrap&quot;: false, &quot;opacity&quot;: 1, &quot;subdomains&quot;: &quot;abc&quot;, &quot;tms&quot;: false}\n",
       "            ).addTo(map_a75c4ac7fe9736dc7f1ebbc506c46149);\n",
       "        \n",
       "    \n",
       "            var layer_control_cfa565f7afde56d94b2272388e1453ef = {\n",
       "                base_layers : {\n",
       "                    &quot;openstreetmap&quot; : tile_layer_263069ea04eec5c027ae79728c4aa431,\n",
       "                },\n",
       "                overlays :  {\n",
       "                    &quot;Binary Mask&quot; : tile_layer_e79b757e92df34ef251e64fcb3ae323b,\n",
       "                },\n",
       "            };\n",
       "            L.control.layers(\n",
       "                layer_control_cfa565f7afde56d94b2272388e1453ef.base_layers,\n",
       "                layer_control_cfa565f7afde56d94b2272388e1453ef.overlays,\n",
       "                {&quot;autoZIndex&quot;: true, &quot;collapsed&quot;: true, &quot;position&quot;: &quot;topright&quot;}\n",
       "            ).addTo(map_a75c4ac7fe9736dc7f1ebbc506c46149);\n",
       "        \n",
       "&lt;/script&gt;\n",
       "&lt;/html&gt;\" style=\"position:absolute;width:100%;height:100%;left:0;top:0;border:none !important;\" allowfullscreen webkitallowfullscreen mozallowfullscreen></iframe></div></div>"
      ],
      "text/plain": [
       "<folium.folium.Map at 0x15a627e50>"
      ]
     },
     "metadata": {},
     "output_type": "display_data"
    }
   ],
   "source": [
    "vis_params_mask = {\n",
    "    # 'min': 0,\n",
    "    # 'max': 1,\n",
    "    'palette': ['white', 'black']\n",
    "}\n",
    "\n",
    "my_map_mask = show_binary_mask(image, roi, vis_params_mask, threshold=-20)\n",
    "display(my_map_mask)"
   ]
  },
  {
   "attachments": {},
   "cell_type": "markdown",
   "metadata": {},
   "source": [
    "## Export image"
   ]
  },
  {
   "cell_type": "code",
   "execution_count": null,
   "metadata": {},
   "outputs": [
    {
     "name": "stdout",
     "output_type": "stream",
     "text": [
      "{'type': 'Projection', 'crs': 'EPSG:32612', 'transform': [10, 0, 265363.8038094812, 0, -10, 4661937.729569972]}\n",
      "{'type': 'Projection', 'crs': 'EPSG:6341', 'transform': [10, 0, 0, 0, -10, 0]}\n"
     ]
    }
   ],
   "source": [
    "image = ee.Image(normalized_collection.toList(images.size()).get(1)).select('VV')\n",
    "\n",
    "image.getInfo()\n",
    "print(image.projection().getInfo())\n",
    "image = image.reproject('EPSG:6341', scale=image.projection().nominalScale())\n",
    "print(image.projection().getInfo())"
   ]
  },
  {
   "cell_type": "code",
   "execution_count": null,
   "metadata": {},
   "outputs": [
    {
     "data": {
      "text/plain": [
       "{'type': 'Image',\n",
       " 'bands': [{'id': 'VV',\n",
       "   'data_type': {'type': 'PixelType', 'precision': 'double'},\n",
       "   'dimensions': [28551, 21420],\n",
       "   'crs': 'EPSG:32612',\n",
       "   'crs_transform': [10, 0, 265363.8038094812, 0, -10, 4661937.729569972]}],\n",
       " 'properties': {'system:index': 'S1A_IW_GRDH_1SSV_20161025T133344_20161025T133409_013647_015DFD_D6D4'}}"
      ]
     },
     "execution_count": 41,
     "metadata": {},
     "output_type": "execute_result"
    }
   ],
   "source": [
    "image.getInfo()\n",
    "\n",
    "# image.get('system:time_start').getInfo()"
   ]
  },
  {
   "cell_type": "code",
   "execution_count": null,
   "metadata": {},
   "outputs": [
    {
     "data": {
      "text/plain": [
       "{'state': 'READY',\n",
       " 'description': 'S1A_IW_GRDH_1SSV_20161025T133344_20161025T133409_013647_015DFD_D6D4',\n",
       " 'creation_timestamp_ms': 1685926433758,\n",
       " 'update_timestamp_ms': 1685926433758,\n",
       " 'start_timestamp_ms': 0,\n",
       " 'task_type': 'EXPORT_IMAGE',\n",
       " 'id': 'N5V4DOFARYSWFIUCFJEG2RCQ',\n",
       " 'name': 'projects/gsl-monitoring/operations/N5V4DOFARYSWFIUCFJEG2RCQ'}"
      ]
     },
     "execution_count": 18,
     "metadata": {},
     "output_type": "execute_result"
    }
   ],
   "source": [
    "task = ee.batch.Export.image.toDrive(\n",
    "    image=image,\n",
    "    description='S1A_IW_GRDH_1SSV_20161025T133344_20161025T133409_013647_015DFD_D6D4',\n",
    "    # scale=10, # if not provided, the native resolution of the image will be used\n",
    "    maxPixels=1e13,\n",
    "    region=roi.getInfo()['coordinates'],\n",
    "    fileFormat='GeoTIFF',\n",
    "    formatOptions={'cloudOptimized': True}\n",
    ")\n",
    "\n",
    "task.start()\n",
    "task.status()"
   ]
  },
  {
   "cell_type": "code",
   "execution_count": null,
   "metadata": {},
   "outputs": [
    {
     "data": {
      "text/plain": [
       "{'state': 'RUNNING',\n",
       " 'description': 'S1A_IW_GRDH_1SSV_20161025T133344_20161025T133409_013647_015DFD_D6D4',\n",
       " 'creation_timestamp_ms': 1685926433758,\n",
       " 'update_timestamp_ms': 1685926441174,\n",
       " 'start_timestamp_ms': 1685926441097,\n",
       " 'task_type': 'EXPORT_IMAGE',\n",
       " 'attempt': 1,\n",
       " 'id': 'N5V4DOFARYSWFIUCFJEG2RCQ',\n",
       " 'name': 'projects/gsl-monitoring/operations/N5V4DOFARYSWFIUCFJEG2RCQ'}"
      ]
     },
     "execution_count": 20,
     "metadata": {},
     "output_type": "execute_result"
    }
   ],
   "source": [
    "task.status()"
   ]
  },
  {
   "attachments": {},
   "cell_type": "markdown",
   "metadata": {},
   "source": [
    "## Evaluate optical imagery"
   ]
  },
  {
   "cell_type": "code",
   "execution_count": 94,
   "metadata": {},
   "outputs": [],
   "source": [
    "gdf = gpd.read_file('../../data/definitions/preliminary-roi.geojson')\n",
    "polygon_geojson = shapely.geometry.mapping(gdf.loc[0, 'geometry'])\n",
    "roi = ee.Geometry.Polygon(polygon_geojson['coordinates'])\n",
    "\n",
    "image_collection = ee.ImageCollection('COPERNICUS/S2') \\\n",
    "    .filterDate('2016-09-01', '2016-11-30') \\\n",
    "    .filterBounds(roi) \\\n",
    "    .filterMetadata('CLOUDY_PIXEL_PERCENTAGE', 'less_than', 10) \\\n",
    "    .select(['B4', 'B3', 'B2'])\n",
    "\n",
    "image_collection.size().getInfo()\n",
    "\n",
    "# list assets\n",
    "image_collection.aggregate_array('system:id').getInfo()\n",
    "\n",
    "# sort collection by size\n",
    "image_collection = image_collection.sort('system:asset_size', False) \n",
    "def add_ee_layer(self, ee_image_object, vis_params, name):\n",
    "    map_id_dict = ee.Image(ee_image_object).getMapId(vis_params)\n",
    "    folium.raster_layers.TileLayer(\n",
    "        tiles = map_id_dict['tile_fetcher'].url_format,\n",
    "        attr = 'Map Data © Google Earth Engine',\n",
    "        name = name,\n",
    "        overlay = True,\n",
    "        control = True\n",
    "    ).add_to(self)\n",
    "\n",
    "folium.Map.add_ee_layer = add_ee_layer\n",
    "\n",
    "vis_params = {\n",
    "    'min': 0,\n",
    "    'max': 3000,\n",
    "    'bands': ['B4', 'B3', 'B2']\n",
    "}\n",
    "\n",
    "def show_map(image, roi, vis_params, name):\n",
    "    my_map = folium.Map(location=[roi.centroid().coordinates().get(1).getInfo(), \n",
    "                                  roi.centroid().coordinates().get(0).getInfo()], zoom_start=8)\n",
    "    my_map.add_ee_layer(image, vis_params, name)\n",
    "    my_map.add_child(folium.LayerControl())\n",
    "    return my_map\n",
    "\n",
    "image = ee.Image(image_collection.toList(image_collection.size()).get(8))\n",
    "print(image.get('system:id').getInfo())\n",
    "my_map = show_map(image, roi, vis_params, 'Normalized SAR Image')\n",
    "display(my_map)\n",
    "\n",
    "# COPERNICUS/S2/20161122T182702_20161122T182802_T12TUL\n",
    "# COPERNICUS/S2/20161122T182702_20161122T214532_T12TUL\n",
    "# COPERNICUS/S2/20160913T181942_20160913T182213_T12TUL (quite good)\n",
    "# COPERNICUS/S2/20160913T181942_20160913T232315_T12TUL"
   ]
  },
  {
   "attachments": {},
   "cell_type": "markdown",
   "metadata": {},
   "source": [
    "## Evaluate multiband SAR imagery"
   ]
  },
  {
   "cell_type": "code",
   "execution_count": 173,
   "metadata": {},
   "outputs": [],
   "source": [
    "gdf = gpd.read_file('../../data/definitions/preliminary-roi.geojson')\n",
    "polygon_geojson = shapely.geometry.mapping(gdf.loc[0, 'geometry'])\n",
    "roi = ee.Geometry.Polygon(polygon_geojson['coordinates'])\n",
    "\n",
    "# create image collection\n",
    "collection = ee.ImageCollection('COPERNICUS/S1_GRD') \\\n",
    "    .filterBounds(roi) \\\n",
    "    .filterDate('2014-01-01', '2023-05-30') \\\n",
    "    .select(['VV', 'VH'])\n",
    "\n",
    "image_ids = [\n",
    "    # 'COPERNICUS/S1_GRD/S1A_IW_GRDH_1SSV_20161118T133343_20161118T133408_013997_0168E2_0E34',\n",
    "    'COPERNICUS/S1_GRD/S1A_IW_GRDH_1SSV_20161025T133344_20161025T133409_013647_015DFD_D6D4',\n",
    "    'COPERNICUS/S1_GRD/S1A_IW_GRDH_1SSV_20161001T133344_20161001T133409_013297_015303_46D8',\n",
    "    'COPERNICUS/S1_GRD/S1A_IW_GRDH_1SSV_20160914T012714_20160914T012739_013042_014AAB_8E21',\n",
    "    'COPERNICUS/S1_GRD/S1A_IW_GRDH_1SSV_20160907T133338_20160907T133403_012947_0147A1_6662',\n",
    "    'COPERNICUS/S1_GRD/S1A_IW_GRDH_1SSV_20160814T133337_20160814T133402_012597_013BFD_B0DF',\n",
    "    ]"
   ]
  },
  {
   "cell_type": "code",
   "execution_count": 175,
   "metadata": {},
   "outputs": [
    {
     "data": {
      "text/html": [
       "<div>\n",
       "<style scoped>\n",
       "    .dataframe tbody tr th:only-of-type {\n",
       "        vertical-align: middle;\n",
       "    }\n",
       "\n",
       "    .dataframe tbody tr th {\n",
       "        vertical-align: top;\n",
       "    }\n",
       "\n",
       "    .dataframe thead th {\n",
       "        text-align: right;\n",
       "    }\n",
       "</style>\n",
       "<table border=\"1\" class=\"dataframe\">\n",
       "  <thead>\n",
       "    <tr style=\"text-align: right;\">\n",
       "      <th></th>\n",
       "      <th>date</th>\n",
       "      <th>bands</th>\n",
       "      <th>id</th>\n",
       "    </tr>\n",
       "  </thead>\n",
       "  <tbody>\n",
       "    <tr>\n",
       "      <th>0</th>\n",
       "      <td>2015-03-24</td>\n",
       "      <td>VV, VH, angle</td>\n",
       "      <td>COPERNICUS/S1_GRD/S1A_IW_GRDH_1SDV_20150324T01...</td>\n",
       "    </tr>\n",
       "    <tr>\n",
       "      <th>1</th>\n",
       "      <td>2015-03-24</td>\n",
       "      <td>VV, VH, angle</td>\n",
       "      <td>COPERNICUS/S1_GRD/S1A_IW_GRDH_1SDV_20150324T01...</td>\n",
       "    </tr>\n",
       "    <tr>\n",
       "      <th>2</th>\n",
       "      <td>2015-03-29</td>\n",
       "      <td>VV, VH, angle</td>\n",
       "      <td>COPERNICUS/S1_GRD/S1A_IW_GRDH_1SDV_20150329T01...</td>\n",
       "    </tr>\n",
       "    <tr>\n",
       "      <th>3</th>\n",
       "      <td>2015-03-31</td>\n",
       "      <td>VV, VH, angle</td>\n",
       "      <td>COPERNICUS/S1_GRD/S1A_IW_GRDH_1SDV_20150331T01...</td>\n",
       "    </tr>\n",
       "    <tr>\n",
       "      <th>4</th>\n",
       "      <td>2016-03-13</td>\n",
       "      <td>VV, VH, angle</td>\n",
       "      <td>COPERNICUS/S1_GRD/S1A_IW_GRDH_1SDV_20160313T01...</td>\n",
       "    </tr>\n",
       "    <tr>\n",
       "      <th>...</th>\n",
       "      <td>...</td>\n",
       "      <td>...</td>\n",
       "      <td>...</td>\n",
       "    </tr>\n",
       "    <tr>\n",
       "      <th>1127</th>\n",
       "      <td>2021-12-23</td>\n",
       "      <td>VV, VH, angle</td>\n",
       "      <td>COPERNICUS/S1_GRD/S1B_IW_GRDH_1SDV_20211223T01...</td>\n",
       "    </tr>\n",
       "    <tr>\n",
       "      <th>1128</th>\n",
       "      <td>2016-09-27</td>\n",
       "      <td>VV, angle</td>\n",
       "      <td>COPERNICUS/S1_GRD/S1B_IW_GRDH_1SSV_20160927T01...</td>\n",
       "    </tr>\n",
       "    <tr>\n",
       "      <th>1129</th>\n",
       "      <td>2016-10-02</td>\n",
       "      <td>VV, angle</td>\n",
       "      <td>COPERNICUS/S1_GRD/S1B_IW_GRDH_1SSV_20161002T01...</td>\n",
       "    </tr>\n",
       "    <tr>\n",
       "      <th>1130</th>\n",
       "      <td>2016-10-02</td>\n",
       "      <td>VV, angle</td>\n",
       "      <td>COPERNICUS/S1_GRD/S1B_IW_GRDH_1SSV_20161002T01...</td>\n",
       "    </tr>\n",
       "    <tr>\n",
       "      <th>1131</th>\n",
       "      <td>2016-10-09</td>\n",
       "      <td>VV, angle</td>\n",
       "      <td>COPERNICUS/S1_GRD/S1B_IW_GRDH_1SSV_20161009T01...</td>\n",
       "    </tr>\n",
       "  </tbody>\n",
       "</table>\n",
       "<p>1132 rows × 3 columns</p>\n",
       "</div>"
      ],
      "text/plain": [
       "            date          bands  \\\n",
       "0     2015-03-24  VV, VH, angle   \n",
       "1     2015-03-24  VV, VH, angle   \n",
       "2     2015-03-29  VV, VH, angle   \n",
       "3     2015-03-31  VV, VH, angle   \n",
       "4     2016-03-13  VV, VH, angle   \n",
       "...          ...            ...   \n",
       "1127  2021-12-23  VV, VH, angle   \n",
       "1128  2016-09-27      VV, angle   \n",
       "1129  2016-10-02      VV, angle   \n",
       "1130  2016-10-02      VV, angle   \n",
       "1131  2016-10-09      VV, angle   \n",
       "\n",
       "                                                     id  \n",
       "0     COPERNICUS/S1_GRD/S1A_IW_GRDH_1SDV_20150324T01...  \n",
       "1     COPERNICUS/S1_GRD/S1A_IW_GRDH_1SDV_20150324T01...  \n",
       "2     COPERNICUS/S1_GRD/S1A_IW_GRDH_1SDV_20150329T01...  \n",
       "3     COPERNICUS/S1_GRD/S1A_IW_GRDH_1SDV_20150331T01...  \n",
       "4     COPERNICUS/S1_GRD/S1A_IW_GRDH_1SDV_20160313T01...  \n",
       "...                                                 ...  \n",
       "1127  COPERNICUS/S1_GRD/S1B_IW_GRDH_1SDV_20211223T01...  \n",
       "1128  COPERNICUS/S1_GRD/S1B_IW_GRDH_1SSV_20160927T01...  \n",
       "1129  COPERNICUS/S1_GRD/S1B_IW_GRDH_1SSV_20161002T01...  \n",
       "1130  COPERNICUS/S1_GRD/S1B_IW_GRDH_1SSV_20161002T01...  \n",
       "1131  COPERNICUS/S1_GRD/S1B_IW_GRDH_1SSV_20161009T01...  \n",
       "\n",
       "[1132 rows x 3 columns]"
      ]
     },
     "execution_count": 175,
     "metadata": {},
     "output_type": "execute_result"
    }
   ],
   "source": [
    "def get_image_info(image):\n",
    "    info = image.getInfo()\n",
    "    date = ee.Date(info['properties']['system:time_start']).format('YYYY-MM-dd').getInfo()\n",
    "    bands = info['bands']\n",
    "    bands = [band['id'] for band in bands]  # extract band names\n",
    "    id = info['id']\n",
    "    return {\"date\": date, \"bands\": bands, \"id\": id}\n",
    "\n",
    "# Get the collection without selecting specific bands\n",
    "collection_no_bands = ee.ImageCollection('COPERNICUS/S1_GRD') \\\n",
    "    .filterBounds(roi) \\\n",
    "    .filterDate('2014-01-01', '2023-05-30')\n",
    "\n",
    "# Get the number of images\n",
    "n = collection_no_bands.size().getInfo()\n",
    "\n",
    "info_list = []\n",
    "# Get information for each image\n",
    "for i in range(n):\n",
    "    image = ee.Image(collection_no_bands.toList(n).get(i))\n",
    "    info = get_image_info(image)\n",
    "    info_list.append(info)\n",
    "\n",
    "# Convert the list of dictionaries to pandas DataFrame\n",
    "df = pd.DataFrame(info_list)\n",
    "\n",
    "# Convert bands from lists to strings\n",
    "df['bands'] = df['bands'].apply(lambda bands: ', '.join(bands))\n",
    "\n",
    "# Show DataFrame\n",
    "df\n"
   ]
  },
  {
   "cell_type": "code",
   "execution_count": 176,
   "metadata": {},
   "outputs": [],
   "source": [
    "# sort and save\n",
    "# df.to_csv('../../data/gee/gee-sentinel-1-band-info.csv', index=False)"
   ]
  },
  {
   "cell_type": "code",
   "execution_count": 168,
   "metadata": {},
   "outputs": [],
   "source": [
    "def lee_filter(image):\n",
    "    # This is a sample filter, replace with actual Lee filter\n",
    "    return image.reduceNeighborhood(\n",
    "        reducer=ee.Reducer.mean(),\n",
    "        kernel=ee.Kernel.square(7, 'pixels'),\n",
    "    )\n",
    "\n",
    "def convert_to_linear(image):\n",
    "    # Assuming image data is in decibels\n",
    "    return ee.Image(10).pow(image.divide(10))\n",
    "\n",
    "def normalize(image):\n",
    "    # Compute the min and max pixel values in the image within the ROI.\n",
    "    stats = image.reduceRegion(\n",
    "      reducer= ee.Reducer.minMax(),\n",
    "      geometry= roi,\n",
    "      scale= 10,\n",
    "      bestEffort=True)\n",
    "\n",
    "    min_val_VV = ee.Number(stats.get('VV_min'))\n",
    "    max_val_VV = ee.Number(stats.get('VV_max'))\n",
    "    min_val_VH = ee.Number(stats.get('VH_min'))\n",
    "    max_val_VH = ee.Number(stats.get('VH_max'))\n",
    "    min_val_ratio = ee.Number(stats.get('VH/VV_min'))\n",
    "    max_val_ratio = ee.Number(stats.get('VH/VV_max'))\n",
    "\n",
    "    # Normalize the image between 0 and 1 based on its min-max.\n",
    "    image = image.select('VV').subtract(min_val_VV).divide(max_val_VV.subtract(min_val_VV)).rename('VV') \\\n",
    "        .addBands(image.select('VH').subtract(min_val_VH).divide(max_val_VH.subtract(min_val_VH)).rename('VH')) \\\n",
    "        .addBands(image.select('VH/VV').subtract(min_val_ratio).divide(max_val_ratio.subtract(min_val_ratio)).rename('VH/VV'))\n",
    "\n",
    "    return image\n",
    "\n",
    "\n",
    "def visualize_image(image):\n",
    "    map = folium.Map(location=[0, 0], zoom_start=3)\n",
    "    mapid = image.getMapId({'bands': ['VV', 'VH', 'VH/VV'], 'min': 0, 'max': 1})\n",
    "    folium.TileLayer(\n",
    "        tiles=mapid['tile_fetcher'].url_format,\n",
    "        attr='Map Data &copy; <a href=\"https://earthengine.google.com/\">Google Earth Engine</a>',\n",
    "        overlay=True,\n",
    "        name='normalized',\n",
    "    ).add_to(map)\n",
    "    map.add_child(folium.LayerControl())\n",
    "    display(map)\n"
   ]
  },
  {
   "cell_type": "code",
   "execution_count": 169,
   "metadata": {},
   "outputs": [],
   "source": [
    "# add VH and VH/VV bands to the collection\n",
    "collection = collection.map(lambda image: image.addBands(image.select('VV').divide(image.select('VH')).rename('VH/VV')))\n"
   ]
  },
  {
   "cell_type": "code",
   "execution_count": 170,
   "metadata": {},
   "outputs": [
    {
     "ename": "EEException",
     "evalue": "Error in map(ID=S1A_IW_GRDH_1SSV_20141007T012701_20141007T012726_002717_0030B1_D67A):\nImage.select: Pattern 'VH' did not match any bands.",
     "output_type": "error",
     "traceback": [
      "\u001b[0;31m---------------------------------------------------------------------------\u001b[0m",
      "\u001b[0;31mHttpError\u001b[0m                                 Traceback (most recent call last)",
      "File \u001b[0;32m~/opt/miniconda/envs/native/lib/python3.10/site-packages/ee/data.py:328\u001b[0m, in \u001b[0;36m_execute_cloud_call\u001b[0;34m(call, num_retries)\u001b[0m\n\u001b[1;32m    327\u001b[0m \u001b[39mtry\u001b[39;00m:\n\u001b[0;32m--> 328\u001b[0m   \u001b[39mreturn\u001b[39;00m call\u001b[39m.\u001b[39;49mexecute(num_retries\u001b[39m=\u001b[39;49mnum_retries)\n\u001b[1;32m    329\u001b[0m \u001b[39mexcept\u001b[39;00m googleapiclient\u001b[39m.\u001b[39merrors\u001b[39m.\u001b[39mHttpError \u001b[39mas\u001b[39;00m e:\n",
      "File \u001b[0;32m~/opt/miniconda/envs/native/lib/python3.10/site-packages/googleapiclient/_helpers.py:134\u001b[0m, in \u001b[0;36mpositional.<locals>.positional_decorator.<locals>.positional_wrapper\u001b[0;34m(*args, **kwargs)\u001b[0m\n\u001b[1;32m    133\u001b[0m         logger\u001b[39m.\u001b[39mwarning(message)\n\u001b[0;32m--> 134\u001b[0m \u001b[39mreturn\u001b[39;00m wrapped(\u001b[39m*\u001b[39;49margs, \u001b[39m*\u001b[39;49m\u001b[39m*\u001b[39;49mkwargs)\n",
      "File \u001b[0;32m~/opt/miniconda/envs/native/lib/python3.10/site-packages/googleapiclient/http.py:915\u001b[0m, in \u001b[0;36mHttpRequest.execute\u001b[0;34m(self, http, num_retries)\u001b[0m\n\u001b[1;32m    914\u001b[0m \u001b[39mif\u001b[39;00m resp\u001b[39m.\u001b[39mstatus \u001b[39m>\u001b[39m\u001b[39m=\u001b[39m \u001b[39m300\u001b[39m:\n\u001b[0;32m--> 915\u001b[0m     \u001b[39mraise\u001b[39;00m HttpError(resp, content, uri\u001b[39m=\u001b[39m\u001b[39mself\u001b[39m\u001b[39m.\u001b[39muri)\n\u001b[1;32m    916\u001b[0m \u001b[39mreturn\u001b[39;00m \u001b[39mself\u001b[39m\u001b[39m.\u001b[39mpostproc(resp, content)\n",
      "\u001b[0;31mHttpError\u001b[0m: <HttpError 400 when requesting https://earthengine.googleapis.com/v1alpha/projects/gsl-monitoring/value:compute?prettyPrint=false&alt=json returned \"Error in map(ID=S1A_IW_GRDH_1SSV_20141007T012701_20141007T012726_002717_0030B1_D67A):\nImage.select: Pattern 'VH' did not match any bands.\". Details: \"Error in map(ID=S1A_IW_GRDH_1SSV_20141007T012701_20141007T012726_002717_0030B1_D67A):\nImage.select: Pattern 'VH' did not match any bands.\">",
      "\nDuring handling of the above exception, another exception occurred:\n",
      "\u001b[0;31mEEException\u001b[0m                               Traceback (most recent call last)",
      "Cell \u001b[0;32mIn[170], line 1\u001b[0m\n\u001b[0;32m----> 1\u001b[0m collection\u001b[39m.\u001b[39;49mgetInfo()\n",
      "File \u001b[0;32m~/opt/miniconda/envs/native/lib/python3.10/site-packages/ee/collection.py:133\u001b[0m, in \u001b[0;36mCollection.getInfo\u001b[0;34m(self)\u001b[0m\n\u001b[1;32m    120\u001b[0m \u001b[39mdef\u001b[39;00m \u001b[39mgetInfo\u001b[39m(\u001b[39mself\u001b[39m):\n\u001b[1;32m    121\u001b[0m   \u001b[39m\"\"\"Returns all the known information about this collection.\u001b[39;00m\n\u001b[1;32m    122\u001b[0m \n\u001b[1;32m    123\u001b[0m \u001b[39m  This function makes an REST call to to retrieve all the known information\u001b[39;00m\n\u001b[0;32m   (...)\u001b[0m\n\u001b[1;32m    131\u001b[0m \u001b[39m         properties.\u001b[39;00m\n\u001b[1;32m    132\u001b[0m \u001b[39m  \"\"\"\u001b[39;00m\n\u001b[0;32m--> 133\u001b[0m   \u001b[39mreturn\u001b[39;00m \u001b[39msuper\u001b[39;49m(Collection, \u001b[39mself\u001b[39;49m)\u001b[39m.\u001b[39;49mgetInfo()\n",
      "File \u001b[0;32m~/opt/miniconda/envs/native/lib/python3.10/site-packages/ee/computedobject.py:98\u001b[0m, in \u001b[0;36mComputedObject.getInfo\u001b[0;34m(self)\u001b[0m\n\u001b[1;32m     92\u001b[0m \u001b[39mdef\u001b[39;00m \u001b[39mgetInfo\u001b[39m(\u001b[39mself\u001b[39m):\n\u001b[1;32m     93\u001b[0m   \u001b[39m\"\"\"Fetch and return information about this object.\u001b[39;00m\n\u001b[1;32m     94\u001b[0m \n\u001b[1;32m     95\u001b[0m \u001b[39m  Returns:\u001b[39;00m\n\u001b[1;32m     96\u001b[0m \u001b[39m    The object can evaluate to anything.\u001b[39;00m\n\u001b[1;32m     97\u001b[0m \u001b[39m  \"\"\"\u001b[39;00m\n\u001b[0;32m---> 98\u001b[0m   \u001b[39mreturn\u001b[39;00m data\u001b[39m.\u001b[39;49mcomputeValue(\u001b[39mself\u001b[39;49m)\n",
      "File \u001b[0;32m~/opt/miniconda/envs/native/lib/python3.10/site-packages/ee/data.py:757\u001b[0m, in \u001b[0;36mcomputeValue\u001b[0;34m(obj)\u001b[0m\n\u001b[1;32m    754\u001b[0m \u001b[39mif\u001b[39;00m workload_tag:\n\u001b[1;32m    755\u001b[0m   body[\u001b[39m'\u001b[39m\u001b[39mworkloadTag\u001b[39m\u001b[39m'\u001b[39m] \u001b[39m=\u001b[39m workload_tag\n\u001b[0;32m--> 757\u001b[0m \u001b[39mreturn\u001b[39;00m _execute_cloud_call(\n\u001b[1;32m    758\u001b[0m     _get_cloud_api_resource()\u001b[39m.\u001b[39;49mprojects()\u001b[39m.\u001b[39;49mvalue()\u001b[39m.\u001b[39;49mcompute(\n\u001b[1;32m    759\u001b[0m         body\u001b[39m=\u001b[39;49mbody,\n\u001b[1;32m    760\u001b[0m         project\u001b[39m=\u001b[39;49m_get_projects_path(),\n\u001b[1;32m    761\u001b[0m         prettyPrint\u001b[39m=\u001b[39;49m\u001b[39mFalse\u001b[39;49;00m))[\u001b[39m'\u001b[39m\u001b[39mresult\u001b[39m\u001b[39m'\u001b[39m]\n",
      "File \u001b[0;32m~/opt/miniconda/envs/native/lib/python3.10/site-packages/ee/data.py:330\u001b[0m, in \u001b[0;36m_execute_cloud_call\u001b[0;34m(call, num_retries)\u001b[0m\n\u001b[1;32m    328\u001b[0m   \u001b[39mreturn\u001b[39;00m call\u001b[39m.\u001b[39mexecute(num_retries\u001b[39m=\u001b[39mnum_retries)\n\u001b[1;32m    329\u001b[0m \u001b[39mexcept\u001b[39;00m googleapiclient\u001b[39m.\u001b[39merrors\u001b[39m.\u001b[39mHttpError \u001b[39mas\u001b[39;00m e:\n\u001b[0;32m--> 330\u001b[0m   \u001b[39mraise\u001b[39;00m _translate_cloud_exception(e)\n",
      "\u001b[0;31mEEException\u001b[0m: Error in map(ID=S1A_IW_GRDH_1SSV_20141007T012701_20141007T012726_002717_0030B1_D67A):\nImage.select: Pattern 'VH' did not match any bands."
     ]
    }
   ],
   "source": [
    "collection.getInfo()"
   ]
  },
  {
   "cell_type": "code",
   "execution_count": 163,
   "metadata": {},
   "outputs": [],
   "source": [
    "# filter for images that have VV, VH and VH/VV bands\n",
    "collection = collection.filter(ee.Filter.listContains(\"system:band_names\", \"VV\"))\\\n",
    "    .filter(ee.Filter.listContains(\"system:band_names\", \"VH\"))\\\n",
    "    .filter(ee.Filter.listContains(\"system:band_names\", \"VH/VV\"))"
   ]
  },
  {
   "cell_type": "code",
   "execution_count": 164,
   "metadata": {},
   "outputs": [
    {
     "ename": "EEException",
     "evalue": "Image.select: Pattern 'VV' did not match any bands.",
     "output_type": "error",
     "traceback": [
      "\u001b[0;31m---------------------------------------------------------------------------\u001b[0m",
      "\u001b[0;31mHttpError\u001b[0m                                 Traceback (most recent call last)",
      "File \u001b[0;32m~/opt/miniconda/envs/native/lib/python3.10/site-packages/ee/data.py:328\u001b[0m, in \u001b[0;36m_execute_cloud_call\u001b[0;34m(call, num_retries)\u001b[0m\n\u001b[1;32m    327\u001b[0m \u001b[39mtry\u001b[39;00m:\n\u001b[0;32m--> 328\u001b[0m   \u001b[39mreturn\u001b[39;00m call\u001b[39m.\u001b[39;49mexecute(num_retries\u001b[39m=\u001b[39;49mnum_retries)\n\u001b[1;32m    329\u001b[0m \u001b[39mexcept\u001b[39;00m googleapiclient\u001b[39m.\u001b[39merrors\u001b[39m.\u001b[39mHttpError \u001b[39mas\u001b[39;00m e:\n",
      "File \u001b[0;32m~/opt/miniconda/envs/native/lib/python3.10/site-packages/googleapiclient/_helpers.py:134\u001b[0m, in \u001b[0;36mpositional.<locals>.positional_decorator.<locals>.positional_wrapper\u001b[0;34m(*args, **kwargs)\u001b[0m\n\u001b[1;32m    133\u001b[0m         logger\u001b[39m.\u001b[39mwarning(message)\n\u001b[0;32m--> 134\u001b[0m \u001b[39mreturn\u001b[39;00m wrapped(\u001b[39m*\u001b[39;49margs, \u001b[39m*\u001b[39;49m\u001b[39m*\u001b[39;49mkwargs)\n",
      "File \u001b[0;32m~/opt/miniconda/envs/native/lib/python3.10/site-packages/googleapiclient/http.py:915\u001b[0m, in \u001b[0;36mHttpRequest.execute\u001b[0;34m(self, http, num_retries)\u001b[0m\n\u001b[1;32m    914\u001b[0m \u001b[39mif\u001b[39;00m resp\u001b[39m.\u001b[39mstatus \u001b[39m>\u001b[39m\u001b[39m=\u001b[39m \u001b[39m300\u001b[39m:\n\u001b[0;32m--> 915\u001b[0m     \u001b[39mraise\u001b[39;00m HttpError(resp, content, uri\u001b[39m=\u001b[39m\u001b[39mself\u001b[39m\u001b[39m.\u001b[39muri)\n\u001b[1;32m    916\u001b[0m \u001b[39mreturn\u001b[39;00m \u001b[39mself\u001b[39m\u001b[39m.\u001b[39mpostproc(resp, content)\n",
      "\u001b[0;31mHttpError\u001b[0m: <HttpError 400 when requesting https://earthengine.googleapis.com/v1alpha/projects/gsl-monitoring/maps?fields=name&alt=json returned \"Image.select: Pattern 'VV' did not match any bands.\". Details: \"Image.select: Pattern 'VV' did not match any bands.\">",
      "\nDuring handling of the above exception, another exception occurred:\n",
      "\u001b[0;31mEEException\u001b[0m                               Traceback (most recent call last)",
      "Cell \u001b[0;32mIn[164], line 10\u001b[0m\n\u001b[1;32m      7\u001b[0m \u001b[39m# Normalize the bands separately\u001b[39;00m\n\u001b[1;32m      8\u001b[0m image \u001b[39m=\u001b[39m normalize(image)\n\u001b[0;32m---> 10\u001b[0m visualize_image(image)\n",
      "Cell \u001b[0;32mIn[160], line 37\u001b[0m, in \u001b[0;36mvisualize_image\u001b[0;34m(image)\u001b[0m\n\u001b[1;32m     35\u001b[0m \u001b[39mdef\u001b[39;00m \u001b[39mvisualize_image\u001b[39m(image):\n\u001b[1;32m     36\u001b[0m     \u001b[39mmap\u001b[39m \u001b[39m=\u001b[39m folium\u001b[39m.\u001b[39mMap(location\u001b[39m=\u001b[39m[\u001b[39m0\u001b[39m, \u001b[39m0\u001b[39m], zoom_start\u001b[39m=\u001b[39m\u001b[39m3\u001b[39m)\n\u001b[0;32m---> 37\u001b[0m     mapid \u001b[39m=\u001b[39m image\u001b[39m.\u001b[39;49mgetMapId({\u001b[39m'\u001b[39;49m\u001b[39mbands\u001b[39;49m\u001b[39m'\u001b[39;49m: [\u001b[39m'\u001b[39;49m\u001b[39mVV\u001b[39;49m\u001b[39m'\u001b[39;49m, \u001b[39m'\u001b[39;49m\u001b[39mVH\u001b[39;49m\u001b[39m'\u001b[39;49m, \u001b[39m'\u001b[39;49m\u001b[39mVH/VV\u001b[39;49m\u001b[39m'\u001b[39;49m], \u001b[39m'\u001b[39;49m\u001b[39mmin\u001b[39;49m\u001b[39m'\u001b[39;49m: \u001b[39m0\u001b[39;49m, \u001b[39m'\u001b[39;49m\u001b[39mmax\u001b[39;49m\u001b[39m'\u001b[39;49m: \u001b[39m1\u001b[39;49m})\n\u001b[1;32m     38\u001b[0m     folium\u001b[39m.\u001b[39mTileLayer(\n\u001b[1;32m     39\u001b[0m         tiles\u001b[39m=\u001b[39mmapid[\u001b[39m'\u001b[39m\u001b[39mtile_fetcher\u001b[39m\u001b[39m'\u001b[39m]\u001b[39m.\u001b[39murl_format,\n\u001b[1;32m     40\u001b[0m         attr\u001b[39m=\u001b[39m\u001b[39m'\u001b[39m\u001b[39mMap Data &copy; <a href=\u001b[39m\u001b[39m\"\u001b[39m\u001b[39mhttps://earthengine.google.com/\u001b[39m\u001b[39m\"\u001b[39m\u001b[39m>Google Earth Engine</a>\u001b[39m\u001b[39m'\u001b[39m,\n\u001b[1;32m     41\u001b[0m         overlay\u001b[39m=\u001b[39m\u001b[39mTrue\u001b[39;00m,\n\u001b[1;32m     42\u001b[0m         name\u001b[39m=\u001b[39m\u001b[39m'\u001b[39m\u001b[39mnormalized\u001b[39m\u001b[39m'\u001b[39m,\n\u001b[1;32m     43\u001b[0m     )\u001b[39m.\u001b[39madd_to(\u001b[39mmap\u001b[39m)\n\u001b[1;32m     44\u001b[0m     \u001b[39mmap\u001b[39m\u001b[39m.\u001b[39madd_child(folium\u001b[39m.\u001b[39mLayerControl())\n",
      "File \u001b[0;32m~/opt/miniconda/envs/native/lib/python3.10/site-packages/ee/image.py:132\u001b[0m, in \u001b[0;36mImage.getMapId\u001b[0;34m(self, vis_params)\u001b[0m\n\u001b[1;32m    130\u001b[0m vis_image, request \u001b[39m=\u001b[39m \u001b[39mself\u001b[39m\u001b[39m.\u001b[39m_apply_visualization(vis_params)\n\u001b[1;32m    131\u001b[0m request[\u001b[39m'\u001b[39m\u001b[39mimage\u001b[39m\u001b[39m'\u001b[39m] \u001b[39m=\u001b[39m vis_image\n\u001b[0;32m--> 132\u001b[0m response \u001b[39m=\u001b[39m data\u001b[39m.\u001b[39;49mgetMapId(request)\n\u001b[1;32m    133\u001b[0m response[\u001b[39m'\u001b[39m\u001b[39mimage\u001b[39m\u001b[39m'\u001b[39m] \u001b[39m=\u001b[39m \u001b[39mself\u001b[39m\n\u001b[1;32m    134\u001b[0m \u001b[39mreturn\u001b[39;00m response\n",
      "File \u001b[0;32m~/opt/miniconda/envs/native/lib/python3.10/site-packages/ee/data.py:586\u001b[0m, in \u001b[0;36mgetMapId\u001b[0;34m(params)\u001b[0m\n\u001b[1;32m    583\u001b[0m   request[\u001b[39m'\u001b[39m\u001b[39mvisualizationOptions\u001b[39m\u001b[39m'\u001b[39m] \u001b[39m=\u001b[39m visualizationOptions\n\u001b[1;32m    584\u001b[0m \u001b[39m# Make it return only the name field, as otherwise it echoes the entire\u001b[39;00m\n\u001b[1;32m    585\u001b[0m \u001b[39m# request, which might be large.\u001b[39;00m\n\u001b[0;32m--> 586\u001b[0m result \u001b[39m=\u001b[39m _execute_cloud_call(\n\u001b[1;32m    587\u001b[0m     _get_cloud_api_resource()\u001b[39m.\u001b[39;49mprojects()\u001b[39m.\u001b[39;49mmaps()\u001b[39m.\u001b[39;49mcreate(\n\u001b[1;32m    588\u001b[0m         parent\u001b[39m=\u001b[39;49m_get_projects_path(), fields\u001b[39m=\u001b[39;49m\u001b[39m'\u001b[39;49m\u001b[39mname\u001b[39;49m\u001b[39m'\u001b[39;49m, body\u001b[39m=\u001b[39;49mrequest))\n\u001b[1;32m    589\u001b[0m map_name \u001b[39m=\u001b[39m result[\u001b[39m'\u001b[39m\u001b[39mname\u001b[39m\u001b[39m'\u001b[39m]\n\u001b[1;32m    590\u001b[0m url_format \u001b[39m=\u001b[39m \u001b[39m'\u001b[39m\u001b[39m%s\u001b[39;00m\u001b[39m/\u001b[39m\u001b[39m%s\u001b[39;00m\u001b[39m/\u001b[39m\u001b[39m%s\u001b[39;00m\u001b[39m/tiles/\u001b[39m\u001b[39m{z}\u001b[39;00m\u001b[39m/\u001b[39m\u001b[39m{x}\u001b[39;00m\u001b[39m/\u001b[39m\u001b[39m{y}\u001b[39;00m\u001b[39m'\u001b[39m \u001b[39m%\u001b[39m (\n\u001b[1;32m    591\u001b[0m     _tile_base_url, _cloud_api_utils\u001b[39m.\u001b[39mVERSION, map_name)\n",
      "File \u001b[0;32m~/opt/miniconda/envs/native/lib/python3.10/site-packages/ee/data.py:330\u001b[0m, in \u001b[0;36m_execute_cloud_call\u001b[0;34m(call, num_retries)\u001b[0m\n\u001b[1;32m    328\u001b[0m   \u001b[39mreturn\u001b[39;00m call\u001b[39m.\u001b[39mexecute(num_retries\u001b[39m=\u001b[39mnum_retries)\n\u001b[1;32m    329\u001b[0m \u001b[39mexcept\u001b[39;00m googleapiclient\u001b[39m.\u001b[39merrors\u001b[39m.\u001b[39mHttpError \u001b[39mas\u001b[39;00m e:\n\u001b[0;32m--> 330\u001b[0m   \u001b[39mraise\u001b[39;00m _translate_cloud_exception(e)\n",
      "\u001b[0;31mEEException\u001b[0m: Image.select: Pattern 'VV' did not match any bands."
     ]
    }
   ],
   "source": [
    "for image_id in image_ids:\n",
    "    image = ee.Image(image_id).clip(roi)\n",
    "    \n",
    "    image = lee_filter(image)\n",
    "    image = convert_to_linear(image)\n",
    "\n",
    "    # Normalize the bands separately\n",
    "    image = normalize(image)\n",
    "    \n",
    "    visualize_image(image)\n"
   ]
  },
  {
   "cell_type": "code",
   "execution_count": 146,
   "metadata": {},
   "outputs": [
    {
     "data": {
      "text/plain": [
       "5"
      ]
     },
     "execution_count": 146,
     "metadata": {},
     "output_type": "execute_result"
    }
   ],
   "source": [
    "def get_images(image_id):\n",
    "    return ee.Image(image_id)\n",
    "\n",
    "images = ee.ImageCollection.fromImages(list(map(get_images, image_ids)))\\\n",
    "                            .filter(ee.Filter.eq('instrumentMode', 'IW'))\n",
    "images.size().getInfo()"
   ]
  },
  {
   "cell_type": "code",
   "execution_count": 149,
   "metadata": {},
   "outputs": [],
   "source": [
    "def lee_filter(image, size):\n",
    "    # Apply filter for each band separately\n",
    "    vv_image = image.select('VV')\n",
    "    vh_image = image.select('VH')\n",
    "\n",
    "    mean_square_vv = vv_image.reduceNeighborhood(\n",
    "        reducer=ee.Reducer.mean().unweighted(),\n",
    "        kernel=ee.Kernel.square(size),\n",
    "    )\n",
    "    mean_square_vh = vh_image.reduceNeighborhood(\n",
    "        reducer=ee.Reducer.mean().unweighted(),\n",
    "        kernel=ee.Kernel.square(size),\n",
    "    )\n",
    "    \n",
    "    sigma_vv = vv_image.reduceNeighborhood(\n",
    "        reducer=ee.Reducer.stdDev().unweighted(),\n",
    "        kernel=ee.Kernel.square(size),\n",
    "    )\n",
    "    sigma_vh = vh_image.reduceNeighborhood(\n",
    "        reducer=ee.Reducer.stdDev().unweighted(),\n",
    "        kernel=ee.Kernel.square(size),\n",
    "    )\n",
    "    \n",
    "    return image.where(sigma_vv.gt(0.0), mean_square_vv).addBands(image.where(sigma_vh.gt(0.0), mean_square_vh), overwrite=True)\n",
    "\n",
    "\n",
    "filtered_collection = apply_speckle_filter(images)\n",
    "linear_collection = convert_to_linear_units(filtered_collection)\n",
    "normalized_collection = normalize_collection(linear_collection, roi)"
   ]
  },
  {
   "cell_type": "code",
   "execution_count": 139,
   "metadata": {},
   "outputs": [
    {
     "name": "stdout",
     "output_type": "stream",
     "text": [
      "{'SNAP_Graph_Processing_Framework_GPF_vers': '6.0.4', 'SLC_Processing_facility_org': 'ESA', 'SLC_Processing_facility_country': 'Germany', 'GRD_Post_Processing_facility_org': 'ESA', 'transmitterReceiverPolarisation': ['VV'], 'GRD_Post_Processing_start': 1477409731420, 'sliceNumber': 3, 'GRD_Post_Processing_facility_name': 'Copernicus S1 Core Ground Segment - DPA', 'resolution': 'H', 'SLC_Processing_facility_name': 'Copernicus S1 Core Ground Segment - DPA', 'system:footprint': {'type': 'LinearRing', 'coordinates': [[-113.72147838975759, 40.57260175880148], [-113.72050486786755, 40.57190388644305], [-112.96118014881074, 40.4778907938279], [-112.60313892884774, 40.43172747509926], [-111.58532254783113, 40.29412980793635], [-110.99348890101922, 40.20975582666526], [-110.81960514549304, 40.18435657563688], [-110.816775837647, 40.18738145080024], [-110.46716219787528, 41.56827658557014], [-110.44020516693382, 41.67460875559166], [-110.4381527088323, 41.68664664301611], [-111.94029491081065, 41.89244956078553], [-113.40950684140148, 42.07352507661427], [-113.45566392636469, 41.923490068162074], [-113.46402685022821, 41.8858613521277], [-113.52921506611308, 41.557724123302414], [-113.59382656282003, 41.229552486125066], [-113.65787682179051, 40.901346899011685], [-113.72147838975759, 40.57260175880148]]}, 'familyName': 'SENTINEL-1', 'segmentStartTime': 1477402370400, 'missionDataTakeID': 89597, 'GRD_Post_Processing_facility_country': 'Germany', 'nssdcIdentifier': '2014-016A', 'productClass': 'S', 'phaseIdentifier': 1, 'orbitProperties_pass': 'DESCENDING', 'relativeOrbitNumber_stop': 100, 'system:time_end': 1477402424100, 'SLC_Processing_facility_site': 'DLR-Oberpfaffenhofen', 'GRD_Post_Processing_stop': 1477410027000, 'system:time_start': 1477402424100, 'instrumentMode': 'IW', 'totalSlices': 12, 'SLC_Processing_stop': 1477409957000, 'startTimeANX': 2278837, 'SLC_Processing_start': 1477409823000, 'resolution_meters': 10, 'instrumentSwath': 'IW', 'relativeOrbitNumber_start': 100, 'productTimelinessCategory': 'Fast-24h', 'SLC_Processing_software_name': 'Sentinel-1 IPF', 'sliceProductFlag': 'true', 'S1TBX_Calibration_vers': '6.0.4', 'orbitNumber_start': 13647, 'GRD_Post_Processing_facility_site': 'DLR-Oberpfaffenhofen', 'instrument': 'Synthetic Aperture Radar', 'GRD_Post_Processing_software_name': 'Sentinel-1 IPF', 'platform_number': 'A', 'S1TBX_SAR_Processing_vers': '6.0.4', 'productType': 'GRD', 'orbitProperties_ascendingNodeTime': 1477400145270, 'stopTimeANX': 2303836, 'productComposition': 'Slice', 'productClassDescription': 'SAR Standard L1 Product', 'GRD_Post_Processing_software_version': '002.72', 'SLC_Processing_software_version': '002.72', 'orbitNumber_stop': 13647, 'instrumentConfigurationID': 5, 'system:asset_size': 2013185581, 'cycleNumber': 92, 'system:index': 'S1A_IW_GRDH_1SSV_20161025T133344_20161025T133409_013647_015DFD_D6D4'}\n"
     ]
    }
   ],
   "source": [
    "images = get_image_collection(image_ids)\n",
    "print_image_properties(images)\n",
    "\n",
    "filtered_collection = apply_speckle_filter(images)\n",
    "linear_collection = convert_to_linear_units(filtered_collection)\n",
    "normalized_collection = normalize_collection(linear_collection, roi)"
   ]
  },
  {
   "cell_type": "code",
   "execution_count": 150,
   "metadata": {},
   "outputs": [
    {
     "ename": "EEException",
     "evalue": "Image.select: Pattern 'VV_norm' did not match any bands.",
     "output_type": "error",
     "traceback": [
      "\u001b[0;31m---------------------------------------------------------------------------\u001b[0m",
      "\u001b[0;31mHttpError\u001b[0m                                 Traceback (most recent call last)",
      "File \u001b[0;32m~/opt/miniconda/envs/native/lib/python3.10/site-packages/ee/data.py:328\u001b[0m, in \u001b[0;36m_execute_cloud_call\u001b[0;34m(call, num_retries)\u001b[0m\n\u001b[1;32m    327\u001b[0m \u001b[39mtry\u001b[39;00m:\n\u001b[0;32m--> 328\u001b[0m   \u001b[39mreturn\u001b[39;00m call\u001b[39m.\u001b[39;49mexecute(num_retries\u001b[39m=\u001b[39;49mnum_retries)\n\u001b[1;32m    329\u001b[0m \u001b[39mexcept\u001b[39;00m googleapiclient\u001b[39m.\u001b[39merrors\u001b[39m.\u001b[39mHttpError \u001b[39mas\u001b[39;00m e:\n",
      "File \u001b[0;32m~/opt/miniconda/envs/native/lib/python3.10/site-packages/googleapiclient/_helpers.py:134\u001b[0m, in \u001b[0;36mpositional.<locals>.positional_decorator.<locals>.positional_wrapper\u001b[0;34m(*args, **kwargs)\u001b[0m\n\u001b[1;32m    133\u001b[0m         logger\u001b[39m.\u001b[39mwarning(message)\n\u001b[0;32m--> 134\u001b[0m \u001b[39mreturn\u001b[39;00m wrapped(\u001b[39m*\u001b[39;49margs, \u001b[39m*\u001b[39;49m\u001b[39m*\u001b[39;49mkwargs)\n",
      "File \u001b[0;32m~/opt/miniconda/envs/native/lib/python3.10/site-packages/googleapiclient/http.py:915\u001b[0m, in \u001b[0;36mHttpRequest.execute\u001b[0;34m(self, http, num_retries)\u001b[0m\n\u001b[1;32m    914\u001b[0m \u001b[39mif\u001b[39;00m resp\u001b[39m.\u001b[39mstatus \u001b[39m>\u001b[39m\u001b[39m=\u001b[39m \u001b[39m300\u001b[39m:\n\u001b[0;32m--> 915\u001b[0m     \u001b[39mraise\u001b[39;00m HttpError(resp, content, uri\u001b[39m=\u001b[39m\u001b[39mself\u001b[39m\u001b[39m.\u001b[39muri)\n\u001b[1;32m    916\u001b[0m \u001b[39mreturn\u001b[39;00m \u001b[39mself\u001b[39m\u001b[39m.\u001b[39mpostproc(resp, content)\n",
      "\u001b[0;31mHttpError\u001b[0m: <HttpError 400 when requesting https://earthengine.googleapis.com/v1alpha/projects/gsl-monitoring/maps?fields=name&alt=json returned \"Image.select: Pattern 'VV_norm' did not match any bands.\". Details: \"Image.select: Pattern 'VV_norm' did not match any bands.\">",
      "\nDuring handling of the above exception, another exception occurred:\n",
      "\u001b[0;31mEEException\u001b[0m                               Traceback (most recent call last)",
      "Cell \u001b[0;32mIn[150], line 8\u001b[0m\n\u001b[1;32m      1\u001b[0m vis_params \u001b[39m=\u001b[39m {\n\u001b[1;32m      2\u001b[0m     \u001b[39m'\u001b[39m\u001b[39mmin\u001b[39m\u001b[39m'\u001b[39m: \u001b[39m-\u001b[39m\u001b[39m25\u001b[39m,\n\u001b[1;32m      3\u001b[0m     \u001b[39m'\u001b[39m\u001b[39mmax\u001b[39m\u001b[39m'\u001b[39m: \u001b[39m-\u001b[39m\u001b[39m5\u001b[39m,\n\u001b[1;32m      4\u001b[0m     \u001b[39m'\u001b[39m\u001b[39mpalette\u001b[39m\u001b[39m'\u001b[39m: [\u001b[39m'\u001b[39m\u001b[39m#1b63e0\u001b[39m\u001b[39m'\u001b[39m, \u001b[39m'\u001b[39m\u001b[39mwhite\u001b[39m\u001b[39m'\u001b[39m, \u001b[39m'\u001b[39m\u001b[39m#e0981b\u001b[39m\u001b[39m'\u001b[39m]\n\u001b[1;32m      5\u001b[0m }\n\u001b[1;32m      7\u001b[0m image \u001b[39m=\u001b[39m ee\u001b[39m.\u001b[39mImage(filtered_collection\u001b[39m.\u001b[39mtoList(images\u001b[39m.\u001b[39msize())\u001b[39m.\u001b[39mget(\u001b[39m1\u001b[39m))\n\u001b[0;32m----> 8\u001b[0m my_map \u001b[39m=\u001b[39m show_map(image, roi, vis_params)\n\u001b[1;32m      9\u001b[0m display(my_map)\n",
      "Cell \u001b[0;32mIn[141], line 81\u001b[0m, in \u001b[0;36mshow_map\u001b[0;34m(image, roi, vis_params)\u001b[0m\n\u001b[1;32m     78\u001b[0m folium\u001b[39m.\u001b[39mMap\u001b[39m.\u001b[39madd_ee_layer \u001b[39m=\u001b[39m add_ee_layer\n\u001b[1;32m     79\u001b[0m my_map \u001b[39m=\u001b[39m folium\u001b[39m.\u001b[39mMap(location\u001b[39m=\u001b[39m[roi\u001b[39m.\u001b[39mcentroid()\u001b[39m.\u001b[39mcoordinates()\u001b[39m.\u001b[39mget(\u001b[39m1\u001b[39m)\u001b[39m.\u001b[39mgetInfo(), \n\u001b[1;32m     80\u001b[0m                               roi\u001b[39m.\u001b[39mcentroid()\u001b[39m.\u001b[39mcoordinates()\u001b[39m.\u001b[39mget(\u001b[39m0\u001b[39m)\u001b[39m.\u001b[39mgetInfo()], zoom_start\u001b[39m=\u001b[39m\u001b[39m8\u001b[39m)\n\u001b[0;32m---> 81\u001b[0m my_map\u001b[39m.\u001b[39;49madd_ee_layer(image\u001b[39m.\u001b[39;49mselect(\u001b[39m'\u001b[39;49m\u001b[39mVV_norm\u001b[39;49m\u001b[39m'\u001b[39;49m), vis_params, \u001b[39m'\u001b[39;49m\u001b[39mNormalized SAR Image VV\u001b[39;49m\u001b[39m'\u001b[39;49m)\n\u001b[1;32m     82\u001b[0m my_map\u001b[39m.\u001b[39madd_ee_layer(image\u001b[39m.\u001b[39mselect(\u001b[39m'\u001b[39m\u001b[39mVH_norm\u001b[39m\u001b[39m'\u001b[39m), vis_params, \u001b[39m'\u001b[39m\u001b[39mNormalized SAR Image VH\u001b[39m\u001b[39m'\u001b[39m)\n\u001b[1;32m     83\u001b[0m my_map\u001b[39m.\u001b[39madd_child(folium\u001b[39m.\u001b[39mLayerControl())\n",
      "Cell \u001b[0;32mIn[116], line 61\u001b[0m, in \u001b[0;36madd_ee_layer\u001b[0;34m(self, ee_image_object, vis_params, name)\u001b[0m\n\u001b[1;32m     60\u001b[0m \u001b[39mdef\u001b[39;00m \u001b[39madd_ee_layer\u001b[39m(\u001b[39mself\u001b[39m, ee_image_object, vis_params, name):\n\u001b[0;32m---> 61\u001b[0m     map_id_dict \u001b[39m=\u001b[39m ee\u001b[39m.\u001b[39;49mImage(ee_image_object)\u001b[39m.\u001b[39;49mgetMapId(vis_params)\n\u001b[1;32m     62\u001b[0m     folium\u001b[39m.\u001b[39mraster_layers\u001b[39m.\u001b[39mTileLayer(\n\u001b[1;32m     63\u001b[0m         tiles \u001b[39m=\u001b[39m map_id_dict[\u001b[39m'\u001b[39m\u001b[39mtile_fetcher\u001b[39m\u001b[39m'\u001b[39m]\u001b[39m.\u001b[39murl_format,\n\u001b[1;32m     64\u001b[0m         attr \u001b[39m=\u001b[39m \u001b[39m\"\u001b[39m\u001b[39mMap Data © Google Earth Engine\u001b[39m\u001b[39m\"\u001b[39m,\n\u001b[0;32m   (...)\u001b[0m\n\u001b[1;32m     67\u001b[0m         control \u001b[39m=\u001b[39m \u001b[39mTrue\u001b[39;00m\n\u001b[1;32m     68\u001b[0m     )\u001b[39m.\u001b[39madd_to(\u001b[39mself\u001b[39m)\n",
      "File \u001b[0;32m~/opt/miniconda/envs/native/lib/python3.10/site-packages/ee/image.py:132\u001b[0m, in \u001b[0;36mImage.getMapId\u001b[0;34m(self, vis_params)\u001b[0m\n\u001b[1;32m    130\u001b[0m vis_image, request \u001b[39m=\u001b[39m \u001b[39mself\u001b[39m\u001b[39m.\u001b[39m_apply_visualization(vis_params)\n\u001b[1;32m    131\u001b[0m request[\u001b[39m'\u001b[39m\u001b[39mimage\u001b[39m\u001b[39m'\u001b[39m] \u001b[39m=\u001b[39m vis_image\n\u001b[0;32m--> 132\u001b[0m response \u001b[39m=\u001b[39m data\u001b[39m.\u001b[39;49mgetMapId(request)\n\u001b[1;32m    133\u001b[0m response[\u001b[39m'\u001b[39m\u001b[39mimage\u001b[39m\u001b[39m'\u001b[39m] \u001b[39m=\u001b[39m \u001b[39mself\u001b[39m\n\u001b[1;32m    134\u001b[0m \u001b[39mreturn\u001b[39;00m response\n",
      "File \u001b[0;32m~/opt/miniconda/envs/native/lib/python3.10/site-packages/ee/data.py:586\u001b[0m, in \u001b[0;36mgetMapId\u001b[0;34m(params)\u001b[0m\n\u001b[1;32m    583\u001b[0m   request[\u001b[39m'\u001b[39m\u001b[39mvisualizationOptions\u001b[39m\u001b[39m'\u001b[39m] \u001b[39m=\u001b[39m visualizationOptions\n\u001b[1;32m    584\u001b[0m \u001b[39m# Make it return only the name field, as otherwise it echoes the entire\u001b[39;00m\n\u001b[1;32m    585\u001b[0m \u001b[39m# request, which might be large.\u001b[39;00m\n\u001b[0;32m--> 586\u001b[0m result \u001b[39m=\u001b[39m _execute_cloud_call(\n\u001b[1;32m    587\u001b[0m     _get_cloud_api_resource()\u001b[39m.\u001b[39;49mprojects()\u001b[39m.\u001b[39;49mmaps()\u001b[39m.\u001b[39;49mcreate(\n\u001b[1;32m    588\u001b[0m         parent\u001b[39m=\u001b[39;49m_get_projects_path(), fields\u001b[39m=\u001b[39;49m\u001b[39m'\u001b[39;49m\u001b[39mname\u001b[39;49m\u001b[39m'\u001b[39;49m, body\u001b[39m=\u001b[39;49mrequest))\n\u001b[1;32m    589\u001b[0m map_name \u001b[39m=\u001b[39m result[\u001b[39m'\u001b[39m\u001b[39mname\u001b[39m\u001b[39m'\u001b[39m]\n\u001b[1;32m    590\u001b[0m url_format \u001b[39m=\u001b[39m \u001b[39m'\u001b[39m\u001b[39m%s\u001b[39;00m\u001b[39m/\u001b[39m\u001b[39m%s\u001b[39;00m\u001b[39m/\u001b[39m\u001b[39m%s\u001b[39;00m\u001b[39m/tiles/\u001b[39m\u001b[39m{z}\u001b[39;00m\u001b[39m/\u001b[39m\u001b[39m{x}\u001b[39;00m\u001b[39m/\u001b[39m\u001b[39m{y}\u001b[39;00m\u001b[39m'\u001b[39m \u001b[39m%\u001b[39m (\n\u001b[1;32m    591\u001b[0m     _tile_base_url, _cloud_api_utils\u001b[39m.\u001b[39mVERSION, map_name)\n",
      "File \u001b[0;32m~/opt/miniconda/envs/native/lib/python3.10/site-packages/ee/data.py:330\u001b[0m, in \u001b[0;36m_execute_cloud_call\u001b[0;34m(call, num_retries)\u001b[0m\n\u001b[1;32m    328\u001b[0m   \u001b[39mreturn\u001b[39;00m call\u001b[39m.\u001b[39mexecute(num_retries\u001b[39m=\u001b[39mnum_retries)\n\u001b[1;32m    329\u001b[0m \u001b[39mexcept\u001b[39;00m googleapiclient\u001b[39m.\u001b[39merrors\u001b[39m.\u001b[39mHttpError \u001b[39mas\u001b[39;00m e:\n\u001b[0;32m--> 330\u001b[0m   \u001b[39mraise\u001b[39;00m _translate_cloud_exception(e)\n",
      "\u001b[0;31mEEException\u001b[0m: Image.select: Pattern 'VV_norm' did not match any bands."
     ]
    }
   ],
   "source": [
    "vis_params = {\n",
    "    'min': -25,\n",
    "    'max': -5,\n",
    "    'palette': ['#1b63e0', 'white', '#e0981b']\n",
    "}\n",
    "\n",
    "image = ee.Image(filtered_collection.toList(images.size()).get(1))\n",
    "my_map = show_map(image, roi, vis_params)\n",
    "display(my_map)"
   ]
  }
 ],
 "metadata": {
  "kernelspec": {
   "display_name": "native",
   "language": "python",
   "name": "python3"
  },
  "language_info": {
   "codemirror_mode": {
    "name": "ipython",
    "version": 3
   },
   "file_extension": ".py",
   "mimetype": "text/x-python",
   "name": "python",
   "nbconvert_exporter": "python",
   "pygments_lexer": "ipython3",
   "version": "3.10.6"
  },
  "orig_nbformat": 4
 },
 "nbformat": 4,
 "nbformat_minor": 2
}
